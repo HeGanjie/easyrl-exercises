{
 "cells": [
  {
   "cell_type": "markdown",
   "source": [
    "### 安装项目所需的第三方库"
   ],
   "metadata": {
    "collapsed": false,
    "pycharm": {
     "name": "#%% md\n"
    }
   }
  },
  {
   "cell_type": "code",
   "execution_count": null,
   "outputs": [],
   "source": [
    "!pip install paddlepaddle==2.3.2 -i https://pypi.tuna.tsinghua.edu.cn/simple\n",
    "!pip install parl -i https://pypi.tuna.tsinghua.edu.cn/simple\n",
    "!pip install visualdl -i https://mirror.baidu.com/pypi/simple\n",
    "!pip install gym==0.18.0 -i https://pypi.tuna.tsinghua.edu.cn/simple\n",
    "!pip install tqdm -i https://pypi.tuna.tsinghua.edu.cn/simple\n",
    "!pip install argparse -i https://pypi.tuna.tsinghua.edu.cn/simple\n",
    "!pip install numpy -i https://pypi.tuna.tsinghua.edu.cn/simple"
   ],
   "metadata": {
    "collapsed": false,
    "pycharm": {
     "name": "#%%\n",
     "is_executing": true
    }
   }
  },
  {
   "cell_type": "markdown",
   "source": [
    "### VisualDL 可视化分析工具 使用介绍"
   ],
   "metadata": {
    "collapsed": false,
    "pycharm": {
     "name": "#%% md\n"
    }
   }
  },
  {
   "cell_type": "markdown",
   "source": [
    "在使用 train.py 进行训练后，会自动在目录下生成 train_log\\train 文件夹 <br>\n",
    "![](https://ai-studio-static-online.cdn.bcebos.com/6d945a25ecdf45b795265eacaa955c76b631366513e148539e0f965321d34b34)"
   ],
   "metadata": {
    "collapsed": false,
    "pycharm": {
     "name": "#%% md\n"
    }
   }
  },
  {
   "cell_type": "markdown",
   "source": [
    "可使用IDE的终端输入命令，启动面版\n",
    "\n",
    "```\n",
    " visualdl --logdir=<dir> --host=<host>\n",
    "```\n",
    "\n",
    "启动的指令和对应端口，在 运行 train.py 时 也会显示\n",
    "![](https://ai-studio-static-online.cdn.bcebos.com/dc1f471a3b34415e977787a20486da8730334673019f49318f9e143e91c05d08)\n"
   ],
   "metadata": {
    "collapsed": false,
    "pycharm": {
     "name": "#%% md\n"
    }
   }
  },
  {
   "cell_type": "markdown",
   "source": [
    "**启动过程展示图**\n",
    "\n",
    "![](https://ai-studio-static-online.cdn.bcebos.com/8159b52b630a4b48b599f69780a785728b0630fae99e481d9482c41b558223fa)"
   ],
   "metadata": {
    "collapsed": false,
    "pycharm": {
     "name": "#%% md\n"
    }
   }
  },
  {
   "cell_type": "markdown",
   "source": [
    "![](https://ai-studio-static-online.cdn.bcebos.com/b5f228f8ca034566bac87301e2738e7e820edf3e9df846458b6087688b728480)\n"
   ],
   "metadata": {
    "collapsed": false,
    "pycharm": {
     "name": "#%% md\n"
    }
   }
  },
  {
   "cell_type": "markdown",
   "source": [
    "**查看训练过程，每个回合的奖励变化** <br>\n",
    "![](https://ai-studio-static-online.cdn.bcebos.com/f129822c13094a17b0f967ec5c0ea3b92e965b3b55e14b999520c54f9b2d77a5)"
   ],
   "metadata": {
    "collapsed": false,
    "pycharm": {
     "name": "#%% md\n"
    }
   }
  },
  {
   "cell_type": "markdown",
   "source": [
    "### VisualDL 可视化分析工具 官方使用教程链接\n",
    "\n",
    "[VisualDL GitHub链接](https://github.com/PaddlePaddle/VisualDL/blob/develop/README_CN.md)"
   ],
   "metadata": {
    "collapsed": false,
    "pycharm": {
     "name": "#%% md\n"
    }
   }
  }
 ],
 "metadata": {
  "kernelspec": {
   "display_name": "Python 3",
   "language": "python",
   "name": "python3"
  },
  "language_info": {
   "codemirror_mode": {
    "name": "ipython",
    "version": 2
   },
   "file_extension": ".py",
   "mimetype": "text/x-python",
   "name": "python",
   "nbconvert_exporter": "python",
   "pygments_lexer": "ipython2",
   "version": "2.7.6"
  }
 },
 "nbformat": 4,
 "nbformat_minor": 0
}