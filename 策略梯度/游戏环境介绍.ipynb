{
 "cells": [
  {
   "cell_type": "markdown",
   "source": [
    "### 安装项目所需的第三方库"
   ],
   "metadata": {
    "collapsed": false,
    "pycharm": {
     "name": "#%% md\n"
    }
   }
  },
  {
   "cell_type": "code",
   "execution_count": null,
   "outputs": [],
   "source": [
    "!pip install paddlepaddle==2.3.2 -i https://pypi.tuna.tsinghua.edu.cn/simple\n",
    "!pip install parl -i https://pypi.tuna.tsinghua.edu.cn/simple\n",
    "!pip install visualdl -i https://mirror.baidu.com/pypi/simple\n",
    "!pip install gym==0.18.0 -i https://pypi.tuna.tsinghua.edu.cn/simple\n",
    "!pip install tqdm -i https://pypi.tuna.tsinghua.edu.cn/simple\n",
    "!pip install numpy -i https://pypi.tuna.tsinghua.edu.cn/simple"
   ],
   "metadata": {
    "collapsed": false,
    "pycharm": {
     "name": "#%%\n",
     "is_executing": true
    }
   }
  },
  {
   "cell_type": "markdown",
   "source": [
    "## 连续状态空间，离散动作空间 环境介绍"
   ],
   "metadata": {
    "collapsed": false,
    "pycharm": {
     "name": "#%% md\n"
    }
   }
  },
  {
   "cell_type": "markdown",
   "source": [
    "### Mountain Car （山地车）环境\n",
    "\n",
    "![](https://ai-studio-static-online.cdn.bcebos.com/738b49ab5396449caa7ccaff89460b77e30b8e47a6a740839d040f244ff0e6db) <br>\n",
    "\n",
    "**观测空间**，观测结果是一个形状为 (2,) 的 ndarray，其中元素对应于以下内容：\n",
    "\n",
    "| Num | 观测         | Min | Max   | 单位 |\n",
    "| -------- |------------|-----|-------| -------- |\n",
    "| 0     | 小车沿 x 轴的位置 | Inf | Inf | 位置（米）     |\n",
    "| 1     | 小车的速度      | Inf | Inf | 位置（米）     |\n",
    "\n",
    "**行动空间**，有 3 个离散的确定性动作，它可以采用动作 {0, 1, 2} 指示小车的加速的方向：\n",
    "\n",
    "| Num | 动作 | 值 | 单位 |\n",
    "| -------- | -------- | -------- | -------- |\n",
    "| 0     | 向左加速     | Inf     | 位置（米）     |\n",
    "| 1     | 不要加速     | Inf     | 位置（米）     |\n",
    "| 2     | 向右加速     | Inf     | 位置（米）     |\n"
   ],
   "metadata": {
    "collapsed": false,
    "pycharm": {
     "name": "#%% md\n"
    }
   }
  },
  {
   "cell_type": "markdown",
   "source": [
    "环境的 **回报（奖励）reward** 设置：\n",
    "目标是小车尽快到达放置在右侧山顶的旗帜位置，因此智能体在每个时间步受到 **-1** 的回报（奖励）。<br>\n",
    "\n",
    "环境的 **回合（episode）结束条件** 设置：\n",
    "出现下面任意一种情况，则达成 回合结束 条件。\n",
    "（1）完成任务：当小车的位置坐标大于等于 0.5 （目标位置在右坡顶）。\n",
    "（2）最大步数：当智能体在环境中的时间步长大于200步时，结束该回合。"
   ],
   "metadata": {
    "collapsed": false,
    "pycharm": {
     "name": "#%% md\n"
    }
   }
  },
  {
   "cell_type": "code",
   "execution_count": 39,
   "outputs": [
    {
     "name": "stdout",
     "output_type": "stream",
     "text": [
      "MountainCar-v0 观测空间 = (2,)\n",
      "MountainCar-v0 动作空间 = Discrete(3)\n",
      "MountainCar-v0 动作数 = 3\n"
     ]
    }
   ],
   "source": [
    "import gym\n",
    "\n",
    "# 创建 Mountain Car 环境\n",
    "env = gym.make('MountainCar-v0')\n",
    "\n",
    "# 查看 Mountain Car 观测空间（Observation Space）\n",
    "obs_dim = env.observation_space.shape\n",
    "\n",
    "# 查看 Mountain Car 动作空间（Action Space）\n",
    "act_dim = env.action_space\n",
    "\n",
    "print('MountainCar-v0 观测空间 = {}'.format(obs_dim))\n",
    "print('MountainCar-v0 动作空间 = {}'.format(act_dim))\n",
    "print('MountainCar-v0 动作数 = {}'.format(act_dim.n))"
   ],
   "metadata": {
    "collapsed": false,
    "pycharm": {
     "name": "#%%\n"
    }
   }
  },
  {
   "cell_type": "markdown",
   "source": [
    "### Cart Pole（推车杆）环境\n",
    "\n",
    "![](https://ai-studio-static-online.cdn.bcebos.com/24e2ac025ec445fcaab1de1ab8ee509b6f0eed6169f947269811f0c878ba782d) <br>\n",
    "\n",
    "**观测空间**，观测结果是一个形状为 (4,) 的 ndarray，其中元素对应于以下位置和速度：\n",
    "\n",
    "| Num | 观测      | Min | Max   |\n",
    "|-----|---------|-----|-------|\n",
    "| 0   | 推车的位置   | -4.8 | 4.8 |\n",
    "| 1   | 推车的速度   | -Inf | +Inf |\n",
    "| 2   | 杆子的角度   | ~ -0.418 rad (-24°) | ~ 0.418 rad (24°) |\n",
    "| 3   | 杆子的角速度  | -Inf | Inf |\n",
    "\n",
    "**行动空间**，有 2 个离散的确定性动作，它可以采用动作 {0, 1} 指示推车的固定力的方向：\n",
    "\n",
    "| Num | 动作 |\n",
    "| -------- |----|\n",
    "| 0     | 推车向左 |\n",
    "| 1     | 推车向右 |\n",
    "\n"
   ],
   "metadata": {
    "collapsed": false,
    "pycharm": {
     "name": "#%% md\n"
    }
   }
  },
  {
   "cell_type": "markdown",
   "source": [
    "环境的 **回报（奖励）reward** 设置：\n",
    "目标是推车上的杆子尽可能长时间地保持直立，因此智能体在每个时间步受到 **+1** 的回报（奖励）。CartPole-v1的最高奖励为 475。<br>\n",
    "\n",
    "环境的 **回合（episode）结束条件** 设置：\n",
    "出现下面任意一种情况，则达成 回合结束条件。\n",
    "（1）杆子掉落：当推车上杆子的角度大于±12°\n",
    "（2）小车出界：当推车位置大于±2.4（推车中心到达显示器边缘）。\n",
    "（3）最大步数：当智能体在环境中的时间步长大于500步时，结束该回合。"
   ],
   "metadata": {
    "collapsed": false,
    "pycharm": {
     "name": "#%% md\n"
    }
   }
  },
  {
   "cell_type": "code",
   "execution_count": 40,
   "outputs": [
    {
     "name": "stdout",
     "output_type": "stream",
     "text": [
      "CartPole-v1 观测空间 = (4,)\n",
      "CartPole-v1 动作空间 = Discrete(2)\n",
      "CartPole-v1 动作数 = 2\n"
     ]
    }
   ],
   "source": [
    "import gym\n",
    "\n",
    "# 创建 Cart Pole 环境\n",
    "env = gym.make('CartPole-v1')\n",
    "\n",
    "# 查看 Cart Pole 观测空间（Observation Space）\n",
    "obs_dim = env.observation_space.shape\n",
    "\n",
    "# 查看 Cart Pole 动作空间（Action Space）\n",
    "act_dim = env.action_space\n",
    "\n",
    "print('CartPole-v1 观测空间 = {}'.format(obs_dim))\n",
    "print('CartPole-v1 动作空间 = {}'.format(act_dim))\n",
    "print('CartPole-v1 动作数 = {}'.format(act_dim.n))"
   ],
   "metadata": {
    "collapsed": false,
    "pycharm": {
     "name": "#%%\n"
    }
   }
  },
  {
   "cell_type": "markdown",
   "source": [
    "### Acrobot（杂技机器人）环境\n",
    "![](https://ai-studio-static-online.cdn.bcebos.com/3171942b6a2e4789b679e487c4e147f4ad4b18f4033f40d7a648ce8185158e51) <br>\n",
    "\n",
    "**观测空间**，观测结果是一个形状为 (6,) 的 ndarray，其中元素对应两个旋转关节角度及其角速度的信息：\n",
    "\n",
    "| Num | 观测                | Min                 | Max               |\n",
    "|-----|-------------------|---------------------|-------------------|\n",
    "| 0   | 关节一角度的余弦          | -1                  | 1                 |\n",
    "| 1   | 关节一角度的正弦          | -1                  | 1                 |\n",
    "| 2   | 关节二相对于第一个链接的角度的余弦 | -1                  | 1                 |\n",
    "| 3   | 关节二相对于第一个链接的角度的正弦 | -1                  | 1                 |\n",
    "| 2   | 关节一的角速度           | ~ -12.567 (-4 * pi) | ~ 12.567 (4 * pi) |\n",
    "| 3   | 关节二的角速度           | ~ -28.274 (-9 * pi)                | ~ 28.274 (9 * pi)               |\n",
    "\n",
    "**行动空间**，有 3 个离散的确定性动作，它可以采用动作 {0, 1, 2} 表示施加在两个连杆之间的致动接头上的扭矩：\n",
    "\n",
    "| Num | 动作            | 单位      |\n",
    "|-----|---------------|---------|\n",
    "| 0   | 对驱动关节施加 -1 扭矩 | 扭矩（牛米）  |\n",
    "| 1   | 对驱动关节施加 0 扭矩  | 扭矩（牛米）  |\n",
    "| 2   | 对驱动关节施加 1 扭矩  | 扭矩（牛米）  |"
   ],
   "metadata": {
    "collapsed": false,
    "pycharm": {
     "name": "#%% md\n"
    }
   }
  },
  {
   "cell_type": "markdown",
   "source": [
    "环境的 **回报（奖励）reward** 设置：\n",
    "目标是关节上的自由端以尽可能少的步数达到指定的目标高度，因此所有未达到目标的步数都会产生 -1 的奖励。达到目标高度会导致终止，奖励为 0。奖励阈值为 -100。<br>\n",
    "\n",
    "环境的 **回合（episode）结束条件** 设置：\n",
    "出现下面任意一种情况，则达成 回合结束条件。\n",
    "（1）达到高度：关节上的自由端达到目标高度\n",
    "（2）最大步数：当智能体在环境中的时间步长大于500步时，结束该回合。"
   ],
   "metadata": {
    "collapsed": false,
    "pycharm": {
     "name": "#%% md\n"
    }
   }
  },
  {
   "cell_type": "code",
   "execution_count": 41,
   "outputs": [
    {
     "name": "stdout",
     "output_type": "stream",
     "text": [
      "Acrobot-v1 观测空间 = (6,)\n",
      "Acrobot-v1 动作空间 = Discrete(3)\n",
      "Acrobot-v1 动作数 = 3\n"
     ]
    }
   ],
   "source": [
    "import gym\n",
    "\n",
    "# 创建 Acrobot 环境\n",
    "env = gym.make('Acrobot-v1')\n",
    "\n",
    "# 查看 Acrobot 观测空间（Observation Space）\n",
    "obs_dim = env.observation_space.shape\n",
    "\n",
    "# 查看 Acrobot 动作空间（Action Space）\n",
    "act_dim = env.action_space\n",
    "\n",
    "print('Acrobot-v1 观测空间 = {}'.format(obs_dim))\n",
    "print('Acrobot-v1 动作空间 = {}'.format(act_dim))\n",
    "print('Acrobot-v1 动作数 = {}'.format(act_dim.n))"
   ],
   "metadata": {
    "collapsed": false,
    "pycharm": {
     "name": "#%%\n"
    }
   }
  },
  {
   "cell_type": "markdown",
   "source": [
    "## 连续状态空间，连续动作空间 环境介绍"
   ],
   "metadata": {
    "collapsed": false,
    "pycharm": {
     "name": "#%% md\n"
    }
   }
  },
  {
   "cell_type": "markdown",
   "source": [
    "### Mountain Car Continuous（山地车连续）环境\n",
    "\n",
    "![](https://ai-studio-static-online.cdn.bcebos.com/738b49ab5396449caa7ccaff89460b77e30b8e47a6a740839d040f244ff0e6db) <br>\n",
    "\n",
    "**观测空间**，观测结果是一个形状为 (2,) 的 ndarray，其中元素对应于以下内容：\n",
    "\n",
    "| Num | 观测         | Min | Max   | 单位 |\n",
    "| -------- |------------|-----|-------| -------- |\n",
    "| 0     | 小车沿 x 轴的位置 | Inf | Inf | 位置（米）     |\n",
    "| 1     | 小车的速度      | Inf | Inf | 位置（米）     |\n",
    "\n",
    "**行动空间**，有 1 个连续的确定性动作，表示施加在小车的加速定向力。动作被限制在 [-1, 1] 范围内，并乘以 0.0015 的幂：\n",
    "\n",
    "| 动作   | 值       | 单位 |\n",
    "|------|---------| -------- |\n",
    "| 向右加速 | (0, 1]  | 位置（米）     |\n",
    "| 不要加速 | 0       | 位置（米）     |\n",
    "| 向左加速 | [-1, 0) | 位置（米）     |"
   ],
   "metadata": {
    "collapsed": false,
    "pycharm": {
     "name": "#%% md\n"
    }
   }
  },
  {
   "cell_type": "markdown",
   "source": [
    "环境的 **回报（奖励）reward** 设置：\n",
    "目标是小车尽快到达放置在右侧山顶的旗帜位置，因此智能体在每个时间步受到 **-1** 的回报（奖励）。以惩罚采取大规模行动。如果小车达到目标，则在该时间步的负奖励中添加 **+100** 的正奖励。<br>\n",
    "\n",
    "环境的 **回合（episode）结束条件** 设置：\n",
    "出现下面任意一种情况，则达成 回合结束 条件。\n",
    "（1）完成任务：当小车的位置坐标大于等于 0.45 （目标位置在右坡顶）。\n",
    "（2）最大步数：当智能体在环境中的时间步长大于999步时，结束该回合。"
   ],
   "metadata": {
    "collapsed": false,
    "pycharm": {
     "name": "#%% md\n"
    }
   }
  },
  {
   "cell_type": "code",
   "execution_count": 42,
   "outputs": [
    {
     "name": "stdout",
     "output_type": "stream",
     "text": [
      "MountainCarContinuous-v0 观测空间 = (2,)\n",
      "MountainCarContinuous-v0 动作空间 = (1,)\n",
      "MountainCarContinuous-v0 动作数 = 1\n"
     ]
    }
   ],
   "source": [
    "import gym\n",
    "\n",
    "# 创建 Mountain Car Continuous 环境\n",
    "env = gym.make('MountainCarContinuous-v0')\n",
    "\n",
    "# 查看 Mountain Car Continuous 观测空间（Observation Space）\n",
    "obs_dim = env.observation_space.shape\n",
    "\n",
    "# 查看 Mountain Car Continuous 动作空间（Action Space）\n",
    "act_dim = env.action_space.shape\n",
    "\n",
    "print('MountainCarContinuous-v0 观测空间 = {}'.format(obs_dim))\n",
    "print('MountainCarContinuous-v0 动作空间 = {}'.format(act_dim))\n",
    "print('MountainCarContinuous-v0 动作数 = {}'.format(act_dim[0]))"
   ],
   "metadata": {
    "collapsed": false,
    "pycharm": {
     "name": "#%%\n"
    }
   }
  },
  {
   "cell_type": "markdown",
   "source": [
    "### Pendulum（摆锤）环境\n",
    "\n",
    "![](https://ai-studio-static-online.cdn.bcebos.com/0a76c20eebd943fbb63ea59cc3c7c41d10fae777b69149f5a1cc608c98247433)\n",
    "<br>\n",
    "\n",
    "**观测空间**，观测结果是一个形状为 (3,) 的 ndarray，其中元素对应于以下内容：\n",
    "\n",
    "| Num | 观测        | Min  | Max |\n",
    "| -------- |-----------|------|-----|\n",
    "| 0     | 摆锤自由端的余弦角度 | -1.0 | 1.0 |\n",
    "| 1     | 摆锤自由端的正弦角度 | -1.0 | 1.0 |\n",
    "| 2     | 摆锤自由端的角速度 | -8.0 | 8.0 |\n",
    "\n",
    "**行动空间**，有 1 个连续的确定性动作，表示施加在摆锤自由端的扭矩。动作被限制在 [-2, 2] 范围内：\n",
    "\n",
    "| 动作   | Min     | Max   |\n",
    "|------|---------|-------|\n",
    "| 扭矩   | -2.0    | 2.0   |"
   ],
   "metadata": {
    "collapsed": false,
    "pycharm": {
     "name": "#%% md\n"
    }
   }
  },
  {
   "cell_type": "markdown",
   "source": [
    "环境的 **回报（奖励）reward** 设置：\n",
    "目标是摆锤处于直力位置，根据环境的 reward函数 设计:\n",
    "$ r = -(theta^2 + 0.1 * theta_dt^2 + 0.001 * torque^2) $\n",
    "因此智能体在每个时间步受到的回报（奖励）最小为 **-16.2736044** ，最大为 0（此时钟摆直立，速度为零，未施加扭矩）。<br>\n",
    "\n",
    "环境的 **回合（episode）结束条件** 设置：\n",
    "出现下面的情况，则达成 回合结束 条件。\n",
    "（2）最大步数：当智能体在环境中的时间步长大于200步时，结束该回合。"
   ],
   "metadata": {
    "collapsed": false,
    "pycharm": {
     "name": "#%% md\n"
    }
   }
  },
  {
   "cell_type": "code",
   "execution_count": 43,
   "outputs": [
    {
     "name": "stdout",
     "output_type": "stream",
     "text": [
      "Pendulum-v0 观测空间 = (3,)\n",
      "Pendulum-v0 动作空间 = (1,)\n",
      "Pendulum-v0 动作数 = 1\n"
     ]
    }
   ],
   "source": [
    "import gym\n",
    "\n",
    "# 创建 Pendulum 环境\n",
    "# 其中 g 为 重力加速度（单位：ms^(-2) ），用于计算钟摆动力学。默认值为 10.0\n",
    "env = gym.make('Pendulum-v0', g=9.81)\n",
    "\n",
    "# 查看 Pendulum 观测空间（Observation Space）\n",
    "obs_dim = env.observation_space.shape\n",
    "\n",
    "# 查看 Pendulum 动作空间（Action Space）\n",
    "act_dim = env.action_space.shape\n",
    "\n",
    "print('Pendulum-v0 观测空间 = {}'.format(obs_dim))\n",
    "print('Pendulum-v0 动作空间 = {}'.format(act_dim))\n",
    "print('Pendulum-v0 动作数 = {}'.format(act_dim[0]))"
   ],
   "metadata": {
    "collapsed": false,
    "pycharm": {
     "name": "#%%\n"
    }
   }
  },
  {
   "cell_type": "markdown",
   "source": [
    "## 参考链接\n",
    "- [Gym Documentation](https://www.gymlibrary.ml/environments/classic_control/)"
   ],
   "metadata": {
    "collapsed": false,
    "pycharm": {
     "name": "#%% md\n"
    }
   }
  }
 ],
 "metadata": {
  "kernelspec": {
   "display_name": "Python 3",
   "language": "python",
   "name": "python3"
  },
  "language_info": {
   "codemirror_mode": {
    "name": "ipython",
    "version": 2
   },
   "file_extension": ".py",
   "mimetype": "text/x-python",
   "name": "python",
   "nbconvert_exporter": "python",
   "pygments_lexer": "ipython2",
   "version": "2.7.6"
  }
 },
 "nbformat": 4,
 "nbformat_minor": 0
}