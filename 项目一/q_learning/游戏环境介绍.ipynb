{
 "cells": [
  {
   "cell_type": "markdown",
   "source": [
    "### 安装项目所需的第三方库"
   ],
   "metadata": {
    "collapsed": false,
    "pycharm": {
     "name": "#%% md\n"
    }
   }
  },
  {
   "cell_type": "code",
   "execution_count": null,
   "outputs": [],
   "source": [
    "!pip install parl -i https://pypi.tuna.tsinghua.edu.cn/simple\n",
    "!pip install visualdl -i https://mirror.baidu.com/pypi/simple\n",
    "!pip install gym==0.18.0 -i https://pypi.tuna.tsinghua.edu.cn/simple\n",
    "!pip install numpy -i https://pypi.tuna.tsinghua.edu.cn/simple"
   ],
   "metadata": {
    "collapsed": false,
    "pycharm": {
     "name": "#%%\n"
    }
   }
  },
  {
   "cell_type": "code",
   "execution_count": 1,
   "outputs": [],
   "source": [
    "import gym\n",
    "from gridworld import CliffWalkingWapper, FrozenLakeWapper\n",
    "assert gym.__version__ == \"0.18.0\", \"[Version WARNING] please try `pip install gym==0.18.0`\""
   ],
   "metadata": {
    "collapsed": false,
    "pycharm": {
     "name": "#%%\n"
    }
   }
  },
  {
   "cell_type": "markdown",
   "source": [
    "### 悬崖环境\n",
    "![](https://ai-studio-static-online.cdn.bcebos.com/e9d1dbacd5e343c7b66e4abd9419a2036b1ad6014bbe461fa3bcb2e26763208a)"
   ],
   "metadata": {
    "collapsed": false,
    "pycharm": {
     "name": "#%% md\n"
    }
   }
  },
  {
   "cell_type": "code",
   "execution_count": 2,
   "outputs": [],
   "source": [
    "# 创建 悬崖游戏环境\n",
    "env = gym.make(\"CliffWalking-v0\")  # 0 up, 1 right, 2 down, 3 left\n",
    "env = CliffWalkingWapper(env)"
   ],
   "metadata": {
    "collapsed": false,
    "pycharm": {
     "name": "#%%\n"
    }
   }
  },
  {
   "cell_type": "code",
   "execution_count": 7,
   "outputs": [
    {
     "name": "stdout",
     "output_type": "stream",
     "text": [
      "CliffWalking-v0 观测空间 = Discrete(48)\n",
      "CliffWalking-v0 动作空间 = Discrete(4)\n",
      "CliffWalking-v0 动作数 = 4\n"
     ]
    }
   ],
   "source": [
    "# 查看 悬崖环境的 观测空间（Observation Space）和 动作空间（Action Space）\n",
    "obs_n=env.observation_space.n\n",
    "act_n=env.action_space.n\n",
    "\n",
    "print('CliffWalking-v0 观测空间 = {}'.format(env.observation_space))\n",
    "print('CliffWalking-v0 动作空间 = {}'.format(env.action_space))\n",
    "print('CliffWalking-v0 动作数 = {}'.format(act_n))"
   ],
   "metadata": {
    "collapsed": false,
    "pycharm": {
     "name": "#%%\n"
    }
   }
  }
 ],
 "metadata": {
  "kernelspec": {
   "display_name": "Python 3",
   "language": "python",
   "name": "python3"
  },
  "language_info": {
   "codemirror_mode": {
    "name": "ipython",
    "version": 2
   },
   "file_extension": ".py",
   "mimetype": "text/x-python",
   "name": "python",
   "nbconvert_exporter": "python",
   "pygments_lexer": "ipython2",
   "version": "2.7.6"
  }
 },
 "nbformat": 4,
 "nbformat_minor": 0
}